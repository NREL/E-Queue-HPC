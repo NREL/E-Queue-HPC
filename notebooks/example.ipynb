{
 "cells": [
  {
   "cell_type": "markdown",
   "id": "searching-enlargement",
   "metadata": {},
   "source": [
    "# JobQueue "
   ]
  },
  {
   "cell_type": "code",
   "execution_count": 7,
   "id": "molecular-active",
   "metadata": {},
   "outputs": [],
   "source": [
    "import os\n",
    "import json\n",
    "import jobqueue"
   ]
  },
  {
   "cell_type": "markdown",
   "id": "deluxe-privilege",
   "metadata": {},
   "source": [
    "The `test` database is defined in a *hidden* file you create called `.jobqueue.json` that lives in your home directory.  It has the following structure:\n",
    "\n",
    "            {\n",
    "                \"project1\": {\n",
    "                    \"host\": \"yuma.hpc.nrel.gov\",\n",
    "                    \"user\": \"project1ops\",\n",
    "                    \"database\": \"project1\",\n",
    "                    \"password\": \"*****************\",\n",
    "                    \"table_name\": \"jobqueue\"\n",
    "                },\n",
    "                \"project2\": {\n",
    "                    \"host\": \"yuma.hpc.nrel.gov\",\n",
    "                    \"user\": \"project2ops\",\n",
    "                    \"database\": \"project2\",\n",
    "                    \"password\": \"*****************\",\n",
    "                    \"table_name\": \"jobqueue\"\n",
    "                },\n",
    "\n",
    "            }"
   ]
  },
  {
   "cell_type": "markdown",
   "id": "hundred-reason",
   "metadata": {},
   "source": [
    "Here's a starter file for you to modify."
   ]
  },
  {
   "cell_type": "code",
   "execution_count": 8,
   "id": "vocal-parameter",
   "metadata": {},
   "outputs": [],
   "source": [
    "example = {\n",
    "    \"test\": {\n",
    "        \"host\": \"yuma.hpc.nrel.gov\",\n",
    "        \"user\": \"project1ops\",\n",
    "        \"database\": \"project1\",\n",
    "        \"password\": \"*****************\",\n",
    "        \"table_name\": \"jobqueue\"\n",
    "    }\n",
    "}\n",
    "\n",
    "with open(os.path.join(os.environ[\"HOME\"], \".jobqueue_tmp.json\"), \"w\") as outfile:\n",
    "    outfile.write(json.dumps(example))"
   ]
  },
  {
   "cell_type": "markdown",
   "id": "occupied-event",
   "metadata": {},
   "source": [
    "You will need to execute the following command for this to be ready for JobQueue to read.\n",
    "\n",
    "        mv ~/.jobqueue_tmp.json ~/.jobqueue.json"
   ]
  },
  {
   "cell_type": "markdown",
   "id": "legislative-terry",
   "metadata": {},
   "source": [
    "## 1. Fill the queue with jobs "
   ]
  },
  {
   "cell_type": "markdown",
   "id": "running-smoke",
   "metadata": {},
   "source": [
    "First we create an instance of `JobQueue` that uses the `test` database (defined in the example above) and creates a queue named `test_queue`.  We clear it in this example to make sure it's empty."
   ]
  },
  {
   "cell_type": "code",
   "execution_count": 11,
   "id": "dominican-foster",
   "metadata": {},
   "outputs": [
    {
     "data": {
      "text/plain": [
       "0"
      ]
     },
     "execution_count": 11,
     "metadata": {},
     "output_type": "execute_result"
    }
   ],
   "source": [
    "jq = jobqueue.JobQueue(\"test\", 'test_queue')\n",
    "jq.clear()\n",
    "\n",
    "jq.messages"
   ]
  },
  {
   "cell_type": "markdown",
   "id": "western-kenya",
   "metadata": {},
   "source": [
    "Now we can add some jobs to the queue."
   ]
  },
  {
   "cell_type": "code",
   "execution_count": 13,
   "id": "utility-arrow",
   "metadata": {},
   "outputs": [],
   "source": [
    "import uuid\n",
    "\n",
    "jq.add_job({'job': 1, 'uuid': str(uuid.uuid4()), 'a_list': [1,2,4]})\n",
    "jq.add_job({'job': 1, 'a_list': [1,2,4]})\n",
    "jq.add_job({'job': 1, 'a_list': [1,2,4]})"
   ]
  },
  {
   "cell_type": "markdown",
   "id": "electronic-flight",
   "metadata": {},
   "source": [
    "Note that we can pass a `uuid` or `JobQueue` will create one.  The job configurations are not enforced to be unique."
   ]
  },
  {
   "cell_type": "markdown",
   "id": "incident-finance",
   "metadata": {},
   "source": [
    "## 2. Run jobs "
   ]
  },
  {
   "cell_type": "markdown",
   "id": "coastal-assessment",
   "metadata": {},
   "source": [
    "Ask for a message.  Here we create a new instance as an example of how this will likely get used."
   ]
  },
  {
   "cell_type": "code",
   "execution_count": 14,
   "id": "elder-ethernet",
   "metadata": {},
   "outputs": [],
   "source": [
    "jq = jobqueue.JobQueue(\"test\", 'test_queue')\n",
    "message = jq.get_message()"
   ]
  },
  {
   "cell_type": "code",
   "execution_count": 15,
   "id": "speaking-vampire",
   "metadata": {},
   "outputs": [
    {
     "data": {
      "text/plain": [
       "{'job': 1, 'uuid': '92fcb56a-e1d9-402d-bb68-64e015f802f8', 'a_list': [1, 2, 4]}"
      ]
     },
     "execution_count": 15,
     "metadata": {},
     "output_type": "execute_result"
    }
   ],
   "source": [
    "message.config"
   ]
  },
  {
   "cell_type": "markdown",
   "id": "arabic-ensemble",
   "metadata": {},
   "source": [
    "The `message.config` stores the job configuration.  When you are done, mark the job as complete."
   ]
  },
  {
   "cell_type": "code",
   "execution_count": 17,
   "id": "civil-alias",
   "metadata": {},
   "outputs": [],
   "source": [
    "message.mark_complete()"
   ]
  },
  {
   "cell_type": "markdown",
   "id": "lesser-malpractice",
   "metadata": {},
   "source": [
    "## 3. Monitor"
   ]
  },
  {
   "cell_type": "markdown",
   "id": "twelve-destiny",
   "metadata": {},
   "source": [
    "There is a command line tool that lists the status of your database."
   ]
  },
  {
   "cell_type": "code",
   "execution_count": 18,
   "id": "colored-maria",
   "metadata": {},
   "outputs": [
    {
     "name": "stdout",
     "output_type": "stream",
     "text": [
      "list\n",
      "\n",
      "   username   groupname status  config\n",
      "0  mlunacek        test   done       3\n",
      "1  mlunacek  test_queue   done       1\n",
      "\n",
      "\n",
      "                     mean  std\n",
      "username groupname            \n",
      "mlunacek test           1  0.0\n",
      "         test_queue   131  NaN\n",
      "\n"
     ]
    }
   ],
   "source": [
    "!jq list test"
   ]
  },
  {
   "cell_type": "code",
   "execution_count": null,
   "id": "fossil-lightweight",
   "metadata": {},
   "outputs": [],
   "source": []
  }
 ],
 "metadata": {
  "kernelspec": {
   "display_name": "Python 3",
   "language": "python",
   "name": "python3"
  },
  "language_info": {
   "codemirror_mode": {
    "name": "ipython",
    "version": 3
   },
   "file_extension": ".py",
   "mimetype": "text/x-python",
   "name": "python",
   "nbconvert_exporter": "python",
   "pygments_lexer": "ipython3",
   "version": "3.7.10"
  }
 },
 "nbformat": 4,
 "nbformat_minor": 5
}
